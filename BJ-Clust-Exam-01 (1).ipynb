{
 "cells": [
  {
   "cell_type": "code",
   "execution_count": 1,
   "metadata": {
    "scrolled": true
   },
   "outputs": [
    {
     "name": "stderr",
     "output_type": "stream",
     "text": [
      "C:\\Anaconda\\lib\\site-packages\\numpy\\_distributor_init.py:32: UserWarning: loaded more than 1 DLL from .libs:\n",
      "C:\\Anaconda\\lib\\site-packages\\numpy\\.libs\\libopenblas.NOIJJG62EMASZI6NYURL6JBKM4EVBGM7.gfortran-win_amd64.dll\n",
      "C:\\Anaconda\\lib\\site-packages\\numpy\\.libs\\libopenblas.PYQHXLVVQ7VESDPUVUADXEVJOBGHJPAY.gfortran-win_amd64.dll\n",
      "C:\\Anaconda\\lib\\site-packages\\numpy\\.libs\\libopenblas.TXA6YQSD3GCQQC22GEQ54J2UDCXDXHWN.gfortran-win_amd64.dll\n",
      "  stacklevel=1)\n",
      "Using TensorFlow backend.\n"
     ]
    }
   ],
   "source": [
    "import pandas as pd\n",
    "import numpy as np\n",
    "from sklearn.model_selection import train_test_split\n",
    "from keras.layers import Input, merge, Dropout, Dense, Flatten, Activation, Conv1D,GlobalMaxPooling1D, concatenate\n",
    "\n",
    "from keras.layers.convolutional import MaxPooling1D, Convolution2D, AveragePooling2D\n",
    "from keras.layers.convolutional import AveragePooling1D\n",
    "from keras.layers.normalization import BatchNormalization\n",
    "from sklearn.preprocessing import MinMaxScaler\n",
    "from keras.models import Model\n",
    "from sklearn.metrics import r2_score\n",
    "import matplotlib.pyplot as plt\n",
    "from sklearn.preprocessing import OneHotEncoder"
   ]
  },
  {
   "cell_type": "code",
   "execution_count": 2,
   "metadata": {
    "collapsed": true
   },
   "outputs": [],
   "source": [
    "train = pd.read_csv('c:\\\\ktds-AutoML\\\\data\\\\data\\\\episode3-data-train-csv.csv',encoding='cp949')"
   ]
  },
  {
   "cell_type": "code",
   "execution_count": 3,
   "metadata": {
    "collapsed": true
   },
   "outputs": [],
   "source": [
    "test = pd.read_csv('c:\\\\ktds-AutoML\\\\data\\\\data\\\\episode3-data-test-csv.csv',encoding='cp949')"
   ]
  },
  {
   "cell_type": "code",
   "execution_count": 4,
   "metadata": {},
   "outputs": [
    {
     "name": "stdout",
     "output_type": "stream",
     "text": [
      "(29999, 89)\n"
     ]
    }
   ],
   "source": [
    "print(train.shape)"
   ]
  },
  {
   "cell_type": "code",
   "execution_count": 5,
   "metadata": {},
   "outputs": [
    {
     "name": "stdout",
     "output_type": "stream",
     "text": [
      "(9998, 89)\n"
     ]
    }
   ],
   "source": [
    "print(test.shape)"
   ]
  },
  {
   "cell_type": "code",
   "execution_count": 6,
   "metadata": {
    "collapsed": true
   },
   "outputs": [],
   "source": [
    "train_x, train_y = train.iloc[:, :-1].reset_index(drop=True), pd.DataFrame(train.iloc[:, -1], columns=[train.columns[-1]]).reset_index(drop=True)\n",
    "test_x, test_y = test.iloc[:, :-1].reset_index(drop=True), pd.DataFrame(test.iloc[:, -1], columns=[test.columns[-1]]).reset_index(drop=True)"
   ]
  },
  {
   "cell_type": "code",
   "execution_count": 7,
   "metadata": {
    "collapsed": true
   },
   "outputs": [],
   "source": [
    "cls_ecod = OneHotEncoder()\n",
    "train_y = cls_ecod.fit_transform(train_y).toarray()\n",
    "#test_y = cls_ecod.fit_transform(test_y).toarray()"
   ]
  },
  {
   "cell_type": "code",
   "execution_count": 8,
   "metadata": {
    "collapsed": true
   },
   "outputs": [],
   "source": [
    "## normalization\n",
    "x_scaler, y_scaler = MinMaxScaler(), MinMaxScaler()\n",
    "\n",
    "norm_train_x = x_scaler.fit_transform(train_x)\n",
    "norm_train_y = train_y\n",
    "#norm_train_y = y_scaler.fit_transform(train_y)\n",
    "norm_test_x = x_scaler.transform(test_x)\n",
    "#norm_test_y = y_scaler.transform(test_y)\n",
    "norm_test_y = test_y"
   ]
  },
  {
   "cell_type": "code",
   "execution_count": 9,
   "metadata": {
    "collapsed": true
   },
   "outputs": [],
   "source": [
    "#norm_train_x = norm_train_x.values.astype('float32')\n",
    "norm_train_x = np.array(norm_train_x).reshape(norm_train_x.shape[0], norm_train_x.shape[1], 1)\n",
    "#norm_test_x = norm_test_x.values.astype('float32')\n",
    "norm_test_x = np.array(norm_test_x).reshape(norm_test_x.shape[0], norm_test_x.shape[1], 1)"
   ]
  },
  {
   "cell_type": "code",
   "execution_count": 10,
   "metadata": {},
   "outputs": [
    {
     "name": "stdout",
     "output_type": "stream",
     "text": [
      "(29999, 88, 1)\n"
     ]
    }
   ],
   "source": [
    "print(norm_train_x.shape)"
   ]
  },
  {
   "cell_type": "code",
   "execution_count": 11,
   "metadata": {},
   "outputs": [
    {
     "name": "stdout",
     "output_type": "stream",
     "text": [
      "(29999, 10)\n"
     ]
    }
   ],
   "source": [
    "print(norm_train_y.shape)"
   ]
  },
  {
   "cell_type": "code",
   "execution_count": 12,
   "metadata": {
    "collapsed": true
   },
   "outputs": [],
   "source": [
    "inputs  = Input((np.shape(norm_train_x)[1], 1))\n",
    "tower_1 = Conv1D(32, (1), activation='relu', padding='same')(inputs)\n",
    "tower_2 = Conv1D(32, (1), activation='relu', padding='same')(inputs)\n",
    "tower_2 = Conv1D(32, (3), activation='relu', padding='same')(tower_2)\n",
    "tower_3 = AveragePooling1D(pool_size=(3), strides=(2), padding='same')(inputs)\n",
    "tower_3 = Conv1D(32, (3), activation='relu', padding='same')(tower_3)\n",
    "tower_4 = Conv1D(32, (1), activation='relu', padding='same')(inputs)\n",
    "tower_4 = Conv1D(32, (3), activation='relu', padding='same')(tower_4)\n",
    "tower_4 = Conv1D(32, (3), activation='relu', padding='same')(tower_4)"
   ]
  },
  {
   "cell_type": "code",
   "execution_count": 13,
   "metadata": {
    "collapsed": true
   },
   "outputs": [],
   "source": [
    "xa = concatenate([tower_1, tower_2, tower_3, tower_4], axis=1)"
   ]
  },
  {
   "cell_type": "code",
   "execution_count": 14,
   "metadata": {
    "collapsed": true
   },
   "outputs": [],
   "source": [
    "xa = Flatten()(xa)\n",
    "xa = Dense(50, activation='relu')(xa)\n",
    "xa = Dropout(0.7)(xa)\n",
    "preds = Dense(10, activation = 'softmax')(xa)\n",
    "model = Model(inputs, preds)"
   ]
  },
  {
   "cell_type": "code",
   "execution_count": 15,
   "metadata": {},
   "outputs": [
    {
     "name": "stdout",
     "output_type": "stream",
     "text": [
      "Epoch 1/100\n",
      "29999/29999 [==============================] - 4s 129us/step - loss: 0.0733 - accuracy: 0.4469\n",
      "Epoch 2/100\n",
      "29999/29999 [==============================] - 4s 125us/step - loss: 0.0518 - accuracy: 0.6741\n",
      "Epoch 3/100\n",
      "29999/29999 [==============================] - 4s 126us/step - loss: 0.0451 - accuracy: 0.7029\n",
      "Epoch 4/100\n",
      "29999/29999 [==============================] - 4s 126us/step - loss: 0.0429 - accuracy: 0.7126\n",
      "Epoch 5/100\n",
      "29999/29999 [==============================] - 4s 126us/step - loss: 0.0416 - accuracy: 0.7162\n",
      "Epoch 6/100\n",
      "29999/29999 [==============================] - 4s 126us/step - loss: 0.0404 - accuracy: 0.7247\n",
      "Epoch 7/100\n",
      "29999/29999 [==============================] - 4s 125us/step - loss: 0.0396 - accuracy: 0.7315\n",
      "Epoch 8/100\n",
      "29999/29999 [==============================] - 4s 126us/step - loss: 0.0390 - accuracy: 0.7338\n",
      "Epoch 9/100\n",
      "29999/29999 [==============================] - 4s 125us/step - loss: 0.0387 - accuracy: 0.7363\n",
      "Epoch 10/100\n",
      "29999/29999 [==============================] - 4s 125us/step - loss: 0.0382 - accuracy: 0.7392\n",
      "Epoch 11/100\n",
      "29999/29999 [==============================] - 4s 126us/step - loss: 0.0377 - accuracy: 0.7432\n",
      "Epoch 12/100\n",
      "29999/29999 [==============================] - 4s 126us/step - loss: 0.0374 - accuracy: 0.7454\n",
      "Epoch 13/100\n",
      "29999/29999 [==============================] - 4s 127us/step - loss: 0.0373 - accuracy: 0.7468\n",
      "Epoch 14/100\n",
      "29999/29999 [==============================] - 4s 125us/step - loss: 0.0370 - accuracy: 0.7477\n",
      "Epoch 15/100\n",
      "29999/29999 [==============================] - 4s 126us/step - loss: 0.0369 - accuracy: 0.7490\n",
      "Epoch 16/100\n",
      "29999/29999 [==============================] - 4s 126us/step - loss: 0.0370 - accuracy: 0.7509\n",
      "Epoch 17/100\n",
      "29999/29999 [==============================] - 4s 128us/step - loss: 0.0367 - accuracy: 0.7516\n",
      "Epoch 18/100\n",
      "29999/29999 [==============================] - 4s 132us/step - loss: 0.0365 - accuracy: 0.7537\n",
      "Epoch 19/100\n",
      "29999/29999 [==============================] - 4s 128us/step - loss: 0.0366 - accuracy: 0.7537\n",
      "Epoch 20/100\n",
      "29999/29999 [==============================] - 4s 128us/step - loss: 0.0366 - accuracy: 0.7544\n",
      "Epoch 21/100\n",
      "29999/29999 [==============================] - 4s 126us/step - loss: 0.0365 - accuracy: 0.7513\n",
      "Epoch 22/100\n",
      "29999/29999 [==============================] - 4s 126us/step - loss: 0.0364 - accuracy: 0.7535\n",
      "Epoch 23/100\n",
      "29999/29999 [==============================] - 4s 126us/step - loss: 0.0363 - accuracy: 0.7551\n",
      "Epoch 24/100\n",
      "29999/29999 [==============================] - 4s 126us/step - loss: 0.0362 - accuracy: 0.7568\n",
      "Epoch 25/100\n",
      "29999/29999 [==============================] - 4s 126us/step - loss: 0.0360 - accuracy: 0.7579\n",
      "Epoch 26/100\n",
      "29999/29999 [==============================] - 4s 127us/step - loss: 0.0358 - accuracy: 0.7586\n",
      "Epoch 27/100\n",
      "29999/29999 [==============================] - 4s 126us/step - loss: 0.0360 - accuracy: 0.7566\n",
      "Epoch 28/100\n",
      "29999/29999 [==============================] - 4s 127us/step - loss: 0.0359 - accuracy: 0.7595\n",
      "Epoch 29/100\n",
      "29999/29999 [==============================] - 4s 126us/step - loss: 0.0355 - accuracy: 0.7623\n",
      "Epoch 30/100\n",
      "29999/29999 [==============================] - 4s 127us/step - loss: 0.0356 - accuracy: 0.7619\n",
      "Epoch 31/100\n",
      "29999/29999 [==============================] - 4s 128us/step - loss: 0.0358 - accuracy: 0.7615\n",
      "Epoch 32/100\n",
      "29999/29999 [==============================] - 4s 126us/step - loss: 0.0355 - accuracy: 0.7625\n",
      "Epoch 33/100\n",
      "29999/29999 [==============================] - 4s 126us/step - loss: 0.0354 - accuracy: 0.7619\n",
      "Epoch 34/100\n",
      "29999/29999 [==============================] - 4s 126us/step - loss: 0.0352 - accuracy: 0.7639\n",
      "Epoch 35/100\n",
      "29999/29999 [==============================] - 4s 126us/step - loss: 0.0351 - accuracy: 0.7658\n",
      "Epoch 36/100\n",
      "29999/29999 [==============================] - 4s 126us/step - loss: 0.0350 - accuracy: 0.7664\n",
      "Epoch 37/100\n",
      "29999/29999 [==============================] - 4s 127us/step - loss: 0.0351 - accuracy: 0.7698\n",
      "Epoch 38/100\n",
      "29999/29999 [==============================] - 4s 128us/step - loss: 0.0349 - accuracy: 0.7685\n",
      "Epoch 39/100\n",
      "29999/29999 [==============================] - 4s 129us/step - loss: 0.0349 - accuracy: 0.7689\n",
      "Epoch 40/100\n",
      "29999/29999 [==============================] - 4s 128us/step - loss: 0.0349 - accuracy: 0.7685\n",
      "Epoch 41/100\n",
      "29999/29999 [==============================] - 4s 129us/step - loss: 0.0348 - accuracy: 0.7679\n",
      "Epoch 42/100\n",
      "29999/29999 [==============================] - 4s 127us/step - loss: 0.0348 - accuracy: 0.7696\n",
      "Epoch 43/100\n",
      "29999/29999 [==============================] - 4s 126us/step - loss: 0.0349 - accuracy: 0.7671\n",
      "Epoch 44/100\n",
      "29999/29999 [==============================] - 4s 126us/step - loss: 0.0348 - accuracy: 0.7730\n",
      "Epoch 45/100\n",
      "29999/29999 [==============================] - 4s 127us/step - loss: 0.0346 - accuracy: 0.7684\n",
      "Epoch 46/100\n",
      "29999/29999 [==============================] - 4s 126us/step - loss: 0.0346 - accuracy: 0.7715\n",
      "Epoch 47/100\n",
      "29999/29999 [==============================] - 4s 128us/step - loss: 0.0346 - accuracy: 0.7700\n",
      "Epoch 48/100\n",
      "29999/29999 [==============================] - 4s 127us/step - loss: 0.0344 - accuracy: 0.7731\n",
      "Epoch 49/100\n",
      "29999/29999 [==============================] - 4s 127us/step - loss: 0.0346 - accuracy: 0.7726\n",
      "Epoch 50/100\n",
      "29999/29999 [==============================] - 4s 127us/step - loss: 0.0345 - accuracy: 0.7719\n",
      "Epoch 51/100\n",
      "29999/29999 [==============================] - 4s 126us/step - loss: 0.0344 - accuracy: 0.7708\n",
      "Epoch 52/100\n",
      "29999/29999 [==============================] - 4s 126us/step - loss: 0.0344 - accuracy: 0.7716\n",
      "Epoch 53/100\n",
      "29999/29999 [==============================] - 4s 126us/step - loss: 0.0343 - accuracy: 0.7726\n",
      "Epoch 54/100\n",
      "29999/29999 [==============================] - 4s 128us/step - loss: 0.0343 - accuracy: 0.7713\n",
      "Epoch 55/100\n",
      "29999/29999 [==============================] - 4s 128us/step - loss: 0.0344 - accuracy: 0.7717\n",
      "Epoch 56/100\n",
      "29999/29999 [==============================] - 4s 126us/step - loss: 0.0343 - accuracy: 0.7752\n",
      "Epoch 57/100\n",
      "29999/29999 [==============================] - 4s 126us/step - loss: 0.0342 - accuracy: 0.7743\n",
      "Epoch 58/100\n",
      "29999/29999 [==============================] - 4s 126us/step - loss: 0.0343 - accuracy: 0.7750\n",
      "Epoch 59/100\n",
      "29999/29999 [==============================] - 4s 127us/step - loss: 0.0343 - accuracy: 0.7743\n",
      "Epoch 60/100\n",
      "29999/29999 [==============================] - 4s 126us/step - loss: 0.0342 - accuracy: 0.7752\n",
      "Epoch 61/100\n",
      "29999/29999 [==============================] - 4s 127us/step - loss: 0.0341 - accuracy: 0.7771\n",
      "Epoch 62/100\n",
      "29999/29999 [==============================] - 4s 126us/step - loss: 0.0339 - accuracy: 0.7776\n",
      "Epoch 63/100\n",
      "29999/29999 [==============================] - 4s 128us/step - loss: 0.0340 - accuracy: 0.7730\n",
      "Epoch 64/100\n",
      "29999/29999 [==============================] - 4s 131us/step - loss: 0.0341 - accuracy: 0.7735\n",
      "Epoch 65/100\n",
      "29999/29999 [==============================] - 4s 127us/step - loss: 0.0339 - accuracy: 0.7762\n",
      "Epoch 66/100\n",
      "29999/29999 [==============================] - 4s 125us/step - loss: 0.0341 - accuracy: 0.7751\n",
      "Epoch 67/100\n",
      "29999/29999 [==============================] - 4s 128us/step - loss: 0.0341 - accuracy: 0.7754\n",
      "Epoch 68/100\n",
      "29999/29999 [==============================] - 4s 126us/step - loss: 0.0339 - accuracy: 0.7759\n",
      "Epoch 69/100\n",
      "29999/29999 [==============================] - 4s 127us/step - loss: 0.0337 - accuracy: 0.7791\n",
      "Epoch 70/100\n",
      "29999/29999 [==============================] - 4s 126us/step - loss: 0.0338 - accuracy: 0.7773\n",
      "Epoch 71/100\n",
      "29999/29999 [==============================] - 4s 127us/step - loss: 0.0340 - accuracy: 0.7749\n",
      "Epoch 72/100\n",
      "29999/29999 [==============================] - 4s 127us/step - loss: 0.0338 - accuracy: 0.7756\n",
      "Epoch 73/100\n",
      "29999/29999 [==============================] - 4s 125us/step - loss: 0.0337 - accuracy: 0.7769\n",
      "Epoch 74/100\n",
      "29999/29999 [==============================] - 4s 126us/step - loss: 0.0339 - accuracy: 0.7754\n",
      "Epoch 75/100\n",
      "29999/29999 [==============================] - 4s 128us/step - loss: 0.0338 - accuracy: 0.7768\n",
      "Epoch 76/100\n",
      "29999/29999 [==============================] - 4s 127us/step - loss: 0.0339 - accuracy: 0.7772\n"
     ]
    },
    {
     "name": "stdout",
     "output_type": "stream",
     "text": [
      "Epoch 77/100\n",
      "29999/29999 [==============================] - 4s 126us/step - loss: 0.0338 - accuracy: 0.7765\n",
      "Epoch 78/100\n",
      "29999/29999 [==============================] - 4s 125us/step - loss: 0.0338 - accuracy: 0.7779\n",
      "Epoch 79/100\n",
      "29999/29999 [==============================] - 4s 127us/step - loss: 0.0337 - accuracy: 0.7774\n",
      "Epoch 80/100\n",
      "29999/29999 [==============================] - 4s 125us/step - loss: 0.0338 - accuracy: 0.7780\n",
      "Epoch 81/100\n",
      "29999/29999 [==============================] - 4s 128us/step - loss: 0.0336 - accuracy: 0.7788\n",
      "Epoch 82/100\n",
      "29999/29999 [==============================] - 4s 126us/step - loss: 0.0335 - accuracy: 0.7803\n",
      "Epoch 83/100\n",
      "29999/29999 [==============================] - 4s 126us/step - loss: 0.0337 - accuracy: 0.7769\n",
      "Epoch 84/100\n",
      "29999/29999 [==============================] - 4s 127us/step - loss: 0.0337 - accuracy: 0.7782\n",
      "Epoch 85/100\n",
      "29999/29999 [==============================] - 4s 127us/step - loss: 0.0336 - accuracy: 0.7784\n",
      "Epoch 86/100\n",
      "29999/29999 [==============================] - 4s 126us/step - loss: 0.0337 - accuracy: 0.7789\n",
      "Epoch 87/100\n",
      "29999/29999 [==============================] - 4s 127us/step - loss: 0.0335 - accuracy: 0.7787\n",
      "Epoch 88/100\n",
      "29999/29999 [==============================] - 4s 127us/step - loss: 0.0336 - accuracy: 0.7789\n",
      "Epoch 89/100\n",
      "29999/29999 [==============================] - 4s 126us/step - loss: 0.0335 - accuracy: 0.7797\n",
      "Epoch 90/100\n",
      "29999/29999 [==============================] - 4s 127us/step - loss: 0.0335 - accuracy: 0.7800\n",
      "Epoch 91/100\n",
      "29999/29999 [==============================] - 4s 129us/step - loss: 0.0337 - accuracy: 0.7774\n",
      "Epoch 92/100\n",
      "29999/29999 [==============================] - 4s 127us/step - loss: 0.0335 - accuracy: 0.7777\n",
      "Epoch 93/100\n",
      "29999/29999 [==============================] - 4s 127us/step - loss: 0.0334 - accuracy: 0.7790\n",
      "Epoch 94/100\n",
      "29999/29999 [==============================] - 4s 126us/step - loss: 0.0333 - accuracy: 0.7810\n",
      "Epoch 95/100\n",
      "29999/29999 [==============================] - 4s 127us/step - loss: 0.0336 - accuracy: 0.7806\n",
      "Epoch 96/100\n",
      "29999/29999 [==============================] - 4s 126us/step - loss: 0.0335 - accuracy: 0.7780\n",
      "Epoch 97/100\n",
      "29999/29999 [==============================] - 4s 126us/step - loss: 0.0334 - accuracy: 0.7807\n",
      "Epoch 98/100\n",
      "29999/29999 [==============================] - 4s 127us/step - loss: 0.0335 - accuracy: 0.7780\n",
      "Epoch 99/100\n",
      "29999/29999 [==============================] - 4s 127us/step - loss: 0.0335 - accuracy: 0.7811\n",
      "Epoch 100/100\n",
      "29999/29999 [==============================] - 4s 127us/step - loss: 0.0333 - accuracy: 0.7808\n"
     ]
    },
    {
     "data": {
      "text/plain": [
       "<keras.callbacks.callbacks.History at 0x294c0cc5dd8>"
      ]
     },
     "execution_count": 15,
     "metadata": {},
     "output_type": "execute_result"
    }
   ],
   "source": [
    "model.compile(loss='mean_squared_error', optimizer='Adam', metrics  =['accuracy'])\n",
    "model.fit(norm_train_x,norm_train_y,epochs=100,batch_size=1000)"
   ]
  },
  {
   "cell_type": "code",
   "execution_count": 16,
   "metadata": {
    "collapsed": true
   },
   "outputs": [],
   "source": [
    "pred = model.predict(norm_test_x)"
   ]
  },
  {
   "cell_type": "code",
   "execution_count": 17,
   "metadata": {
    "collapsed": true
   },
   "outputs": [],
   "source": [
    "rank_df = pd.DataFrame(np.argsort(pred, axis=1)[:, [-1, -2, -3]], columns=['rank1','rank2','rank3'])\n",
    "result_df = pd.concat([test_y, rank_df], axis=1)\n",
    "\n",
    "rank1_hit_cnt = len(result_df[result_df['favor_genre']==result_df['rank1']])\n",
    "rank2_hit_cnt = len(result_df[result_df['favor_genre']==result_df['rank2']])\n",
    "rank3_hit_cnt = len(result_df[result_df['favor_genre']==result_df['rank3']])"
   ]
  },
  {
   "cell_type": "code",
   "execution_count": 18,
   "metadata": {},
   "outputs": [
    {
     "name": "stdout",
     "output_type": "stream",
     "text": [
      "rank1 hit count: 7301  /  rank2 hit count: 1132  /  rank3 hit count: 477\n"
     ]
    }
   ],
   "source": [
    "print(\"rank1 hit count: {}  /  rank2 hit count: {}  /  rank3 hit count: {}\".format(rank1_hit_cnt, rank2_hit_cnt, rank3_hit_cnt))"
   ]
  },
  {
   "cell_type": "code",
   "execution_count": 19,
   "metadata": {},
   "outputs": [
    {
     "name": "stdout",
     "output_type": "stream",
     "text": [
      "Total Hit Score =  0.7987847569513903\n"
     ]
    }
   ],
   "source": [
    "print(\"Total Hit Score = \", ((rank1_hit_cnt*4)+ (rank2_hit_cnt*2)+(rank3_hit_cnt*1))/(len(rank_df)*4))"
   ]
  },
  {
   "cell_type": "code",
   "execution_count": null,
   "metadata": {
    "collapsed": true
   },
   "outputs": [],
   "source": []
  }
 ],
 "metadata": {
  "kernelspec": {
   "display_name": "Python 3",
   "language": "python",
   "name": "python3"
  },
  "language_info": {
   "codemirror_mode": {
    "name": "ipython",
    "version": 3
   },
   "file_extension": ".py",
   "mimetype": "text/x-python",
   "name": "python",
   "nbconvert_exporter": "python",
   "pygments_lexer": "ipython3",
   "version": "3.8.6"
  }
 },
 "nbformat": 4,
 "nbformat_minor": 2
}
