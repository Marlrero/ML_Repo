{
 "cells": [
  {
   "cell_type": "code",
   "execution_count": 1,
   "metadata": {},
   "outputs": [
    {
     "ename": "ModuleNotFoundError",
     "evalue": "No module named 'keras'",
     "output_type": "error",
     "traceback": [
      "\u001b[1;31m---------------------------------------------------------------------------\u001b[0m",
      "\u001b[1;31mModuleNotFoundError\u001b[0m                       Traceback (most recent call last)",
      "\u001b[1;32m<ipython-input-1-e842dbb89740>\u001b[0m in \u001b[0;36m<module>\u001b[1;34m\u001b[0m\n\u001b[0;32m      2\u001b[0m \u001b[1;32mimport\u001b[0m \u001b[0mnumpy\u001b[0m \u001b[1;32mas\u001b[0m \u001b[0mnp\u001b[0m\u001b[1;33m\u001b[0m\u001b[1;33m\u001b[0m\u001b[0m\n\u001b[0;32m      3\u001b[0m \u001b[1;32mfrom\u001b[0m \u001b[0msklearn\u001b[0m\u001b[1;33m.\u001b[0m\u001b[0mmodel_selection\u001b[0m \u001b[1;32mimport\u001b[0m \u001b[0mtrain_test_split\u001b[0m\u001b[1;33m\u001b[0m\u001b[1;33m\u001b[0m\u001b[0m\n\u001b[1;32m----> 4\u001b[1;33m \u001b[1;32mfrom\u001b[0m \u001b[0mkeras\u001b[0m\u001b[1;33m.\u001b[0m\u001b[0mlayers\u001b[0m \u001b[1;32mimport\u001b[0m \u001b[0mInput\u001b[0m\u001b[1;33m,\u001b[0m \u001b[0mmerge\u001b[0m\u001b[1;33m,\u001b[0m \u001b[0mDropout\u001b[0m\u001b[1;33m,\u001b[0m \u001b[0mDense\u001b[0m\u001b[1;33m,\u001b[0m \u001b[0mFlatten\u001b[0m\u001b[1;33m,\u001b[0m \u001b[0mActivation\u001b[0m\u001b[1;33m,\u001b[0m \u001b[0mConv1D\u001b[0m\u001b[1;33m,\u001b[0m\u001b[0mGlobalMaxPooling1D\u001b[0m\u001b[1;33m,\u001b[0m \u001b[0mConcatenate\u001b[0m\u001b[1;33m\u001b[0m\u001b[1;33m\u001b[0m\u001b[0m\n\u001b[0m\u001b[0;32m      5\u001b[0m \u001b[1;33m\u001b[0m\u001b[0m\n\u001b[0;32m      6\u001b[0m \u001b[1;32mfrom\u001b[0m \u001b[0mkeras\u001b[0m\u001b[1;33m.\u001b[0m\u001b[0mlayers\u001b[0m\u001b[1;33m.\u001b[0m\u001b[0mconvolutional\u001b[0m \u001b[1;32mimport\u001b[0m \u001b[0mMaxPooling1D\u001b[0m\u001b[1;33m,\u001b[0m \u001b[0mConvolution2D\u001b[0m\u001b[1;33m,\u001b[0m \u001b[0mAveragePooling2D\u001b[0m\u001b[1;33m\u001b[0m\u001b[1;33m\u001b[0m\u001b[0m\n",
      "\u001b[1;31mModuleNotFoundError\u001b[0m: No module named 'keras'"
     ]
    }
   ],
   "source": [
    "import pandas as pd\n",
    "import numpy as np\n",
    "from sklearn.model_selection import train_test_split\n",
    "from keras.layers import Input, merge, Dropout, Dense, Flatten, Activation, Conv1D,GlobalMaxPooling1D, Concatenate\n",
    "\n",
    "from keras.layers.convolutional import MaxPooling1D, Convolution2D, AveragePooling2D\n",
    "from keras.layers.convolutional import AveragePooling1D\n",
    "from keras.layers.normalization import BatchNormalization\n",
    "from sklearn.preprocessing import MinMaxScaler\n",
    "from keras.models import Model\n",
    "from sklearn.metrics import r2_score\n",
    "import matplotlib.pyplot as plt\n",
    "from sklearn.preprocessing import OneHotEncoder"
   ]
  },
  {
   "cell_type": "code",
   "execution_count": null,
   "metadata": {},
   "outputs": [],
   "source": [
    "def Stem(input_tensor, version=None, name=None):\n",
    "    if version == 'Inception-v4' or version == 'Inception-ResNet-v2':\n",
    "        x = conv2d_bn(input_tensor, 32, (3, 3), padding='valid', strides=2) # 299x299x3 -> 149x149x32\n",
    "        x = conv2d_bn(x, 32, (3, 3), padding='valid') # 149x149x32 -> 147x147x32\n",
    "        x = conv2d_bn(x, 64, (3, 3)) # 147x147x32 -> 147x147x64\n",
    "        \n",
    "        branch_1 = MaxPooling2D((3, 3), padding='valid', strides=2)(x)\n",
    "        branch_2 = conv2d_bn(x, 96, (3, 3), padding='valid', strides=2)\n",
    "        x = Concatenate()([branch_1, branch_2]) # 73x73x160\n",
    "        \n",
    "        branch_1 = conv2d_bn(x, 64, (1, 1))\n",
    "        branch_1 = conv2d_bn(branch_1, 96, (3, 3), padding='valid')\n",
    "        branch_2 = conv2d_bn(x, 64, (1, 1))\n",
    "        branch_2 = conv2d_bn(branch_2, 64, (7, 1))\n",
    "        branch_2 = conv2d_bn(branch_2, 64, (1, 7))\n",
    "        branch_2 = conv2d_bn(branch_2, 96, (3, 3), padding='valid')\n",
    "        x = Concatenate()([branch_1, branch_2]) # 71x71x192\n",
    "        \n",
    "        branch_1 = conv2d_bn(x, 192, (3, 3), padding='valid', strides=2) # Fig.4 is wrong\n",
    "        branch_2 = MaxPooling2D((3, 3), padding='valid', strides=2)(x)\n",
    "        x = Concatenate(name=name)([branch_1, branch_2]) if name else Concatenate()([branch_1, branch_2]) # 35x35x384\n",
    "        \n",
    "    elif version == 'Inception-ResNet-v1':\n",
    "        x = conv2d_bn(input_tensor, 32, (3, 3), padding='valid', strides=2) # 299x299x3 -> 149x149x32\n",
    "        x = conv2d_bn(x, 32, (3, 3), padding='valid') # 149x149x32 -> 147x147x32\n",
    "        x = conv2d_bn(x, 64, (3, 3)) # 147x147x32 -> 147x147x64\n",
    "        \n",
    "        x = MaxPooling2D((3, 3), strides=2, padding='valid')(x) # 147x147x64 -> 73x73x64\n",
    "        \n",
    "        x = conv2d_bn(x, 80, (1, 1)) # 73x73x64 -> 73x73x80\n",
    "        x = conv2d_bn(x, 192, (3, 3), padding='valid') # 73x73x80 -> 71x71x192U\n",
    "        x = conv2d_bn(x, 256, (3, 3), padding='valid', strides=2, name=name) # 71x71x192 -> 35x35x256\n",
    "        \n",
    "    else:\n",
    "        return None # Kill ^^\n",
    "    \n",
    "    return x"
   ]
  }
 ],
 "metadata": {
  "kernelspec": {
   "display_name": "Python 3",
   "language": "python",
   "name": "python3"
  },
  "language_info": {
   "codemirror_mode": {
    "name": "ipython",
    "version": 3
   },
   "file_extension": ".py",
   "mimetype": "text/x-python",
   "name": "python",
   "nbconvert_exporter": "python",
   "pygments_lexer": "ipython3",
   "version": "3.8.6"
  }
 },
 "nbformat": 4,
 "nbformat_minor": 4
}
